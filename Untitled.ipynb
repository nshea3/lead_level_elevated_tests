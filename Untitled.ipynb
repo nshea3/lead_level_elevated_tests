{
 "cells": [
  {
   "cell_type": "code",
   "execution_count": 68,
   "metadata": {},
   "outputs": [],
   "source": [
    "import pandas as pd\n",
    "import matplotlib.pyplot as plt\n",
    "\n",
    "%matplotlib inline\n",
    "\n",
    "lead_levels = pd.read_csv('Childhood_Blood_Lead_Testing_and_Elevated_Incidence_by_Zip_Code__Beginning_2000.csv')"
   ]
  },
  {
   "cell_type": "code",
   "execution_count": 69,
   "metadata": {},
   "outputs": [],
   "source": [
    "\n",
    "erie_lead_levels = lead_levels[lead_levels['County'] == \"Erie\"]\n",
    "grouped = erie_lead_levels.groupby('Zip')\n",
    "\n",
    "grouped['Tests'].agg(sum)\n",
    "grouped['Total Elevated Blood Levels '].agg(sum)\n",
    "#erie_lead_levels.shape\n",
    "\n",
    "zip_grouped_tests = pd.DataFrame({'total_tests':grouped['Tests'].agg(sum), 'total_elevated_tests':grouped['Total Elevated Blood Levels '].agg(sum), 'zip_coords':grouped['Zip Code Location'].first()})\n",
    "\n",
    "zip_grouped_tests.loc[14207]\n",
    "zip_grouped_tests.dropna(inplace=True)"
   ]
  },
  {
   "cell_type": "code",
   "execution_count": 70,
   "metadata": {},
   "outputs": [
    {
     "data": {
      "text/plain": [
       "array([[<matplotlib.axes._subplots.AxesSubplot object at 0x0000015FEC897550>,\n",
       "        <matplotlib.axes._subplots.AxesSubplot object at 0x0000015FEC9A9470>],\n",
       "       [<matplotlib.axes._subplots.AxesSubplot object at 0x0000015FECFE29B0>,\n",
       "        <matplotlib.axes._subplots.AxesSubplot object at 0x0000015FED01BF28>]],\n",
       "      dtype=object)"
      ]
     },
     "execution_count": 70,
     "metadata": {},
     "output_type": "execute_result"
    },
    {
     "data": {
      "image/png": "[encoded data removed]",
      "text/plain": [
       "<Figure size 432x288 with 4 Axes>"
      ]
     },
     "metadata": {
      "needs_background": "light"
     },
     "output_type": "display_data"
    }
   ],
   "source": [
    "#Where do we want to go with this? We want % elevated and zip code lat, zip code lon\n",
    "#And then we want to save that to a CSV to import to the map layer \n",
    "zip_grouped_tests = zip_grouped_tests[zip_grouped_tests['total_tests'] > 0.0]\n",
    "zip_grouped_tests['pct_elevated'] = zip_grouped_tests['total_elevated_tests'] / zip_grouped_tests['total_tests']\n",
    "zip_grouped_tests.hist()"
   ]
  },
  {
   "cell_type": "code",
   "execution_count": 90,
   "metadata": {},
   "outputs": [
    {
     "data": {
      "text/html": [
       "<div>\n",
       "<style scoped>\n",
       "    .dataframe tbody tr th:only-of-type {\n",
       "        vertical-align: middle;\n",
       "    }\n",
       "\n",
       "    .dataframe tbody tr th {\n",
       "        vertical-align: top;\n",
       "    }\n",
       "\n",
       "    .dataframe thead th {\n",
       "        text-align: right;\n",
       "    }\n",
       "</style>\n",
       "<table border=\"1\" class=\"dataframe\">\n",
       "  <thead>\n",
       "    <tr style=\"text-align: right;\">\n",
       "      <th></th>\n",
       "      <th>total_tests</th>\n",
       "      <th>total_elevated_tests</th>\n",
       "      <th>zip_coords</th>\n",
       "      <th>pct_elevated</th>\n",
       "      <th>lat</th>\n",
       "      <th>lon</th>\n",
       "    </tr>\n",
       "    <tr>\n",
       "      <th>Zip</th>\n",
       "      <th></th>\n",
       "      <th></th>\n",
       "      <th></th>\n",
       "      <th></th>\n",
       "      <th></th>\n",
       "      <th></th>\n",
       "    </tr>\n",
       "  </thead>\n",
       "  <tbody>\n",
       "    <tr>\n",
       "      <th>14001</th>\n",
       "      <td>616.0</td>\n",
       "      <td>0.0</td>\n",
       "      <td>(43.03334151, -78.50178216)</td>\n",
       "      <td>0.0</td>\n",
       "      <td>43.03334151</td>\n",
       "      <td>-78.50178216</td>\n",
       "    </tr>\n",
       "    <tr>\n",
       "      <th>14004</th>\n",
       "      <td>669.0</td>\n",
       "      <td>0.0</td>\n",
       "      <td>(42.89914143, -78.49892052)</td>\n",
       "      <td>0.0</td>\n",
       "      <td>42.89914143</td>\n",
       "      <td>-78.49892052</td>\n",
       "    </tr>\n",
       "    <tr>\n",
       "      <th>14006</th>\n",
       "      <td>760.0</td>\n",
       "      <td>0.0</td>\n",
       "      <td>(42.63243039, -79.03414224)</td>\n",
       "      <td>0.0</td>\n",
       "      <td>42.63243039</td>\n",
       "      <td>-79.03414224</td>\n",
       "    </tr>\n",
       "    <tr>\n",
       "      <th>14020</th>\n",
       "      <td>28.0</td>\n",
       "      <td>0.0</td>\n",
       "      <td>(42.98896395, -78.21867132)</td>\n",
       "      <td>0.0</td>\n",
       "      <td>42.98896395</td>\n",
       "      <td>-78.21867132</td>\n",
       "    </tr>\n",
       "    <tr>\n",
       "      <th>14025</th>\n",
       "      <td>242.0</td>\n",
       "      <td>0.0</td>\n",
       "      <td>(42.62486292, -78.72595812)</td>\n",
       "      <td>0.0</td>\n",
       "      <td>42.62486292</td>\n",
       "      <td>-78.72595812</td>\n",
       "    </tr>\n",
       "  </tbody>\n",
       "</table>\n",
       "</div>"
      ],
      "text/plain": [
       "       total_tests  total_elevated_tests                   zip_coords  \\\n",
       "Zip                                                                     \n",
       "14001        616.0                   0.0  (43.03334151, -78.50178216)   \n",
       "14004        669.0                   0.0  (42.89914143, -78.49892052)   \n",
       "14006        760.0                   0.0  (42.63243039, -79.03414224)   \n",
       "14020         28.0                   0.0  (42.98896395, -78.21867132)   \n",
       "14025        242.0                   0.0  (42.62486292, -78.72595812)   \n",
       "\n",
       "       pct_elevated          lat            lon  \n",
       "Zip                                              \n",
       "14001           0.0  43.03334151   -78.50178216  \n",
       "14004           0.0  42.89914143   -78.49892052  \n",
       "14006           0.0  42.63243039   -79.03414224  \n",
       "14020           0.0  42.98896395   -78.21867132  \n",
       "14025           0.0  42.62486292   -78.72595812  "
      ]
     },
     "execution_count": 90,
     "metadata": {},
     "output_type": "execute_result"
    }
   ],
   "source": [
    "#Process the zip_coords now\n",
    "split_grouped_tests = zip_grouped_tests['zip_coords'].str.split(',')\n",
    "zip_grouped_tests['lat'], zip_grouped_tests['lon'] = split_grouped_tests.str[0].str.lstrip('('), split_grouped_tests.str[1].str.rstrip(')')\n",
    "zip_grouped_tests.head()"
   ]
  },
  {
   "cell_type": "code",
   "execution_count": 91,
   "metadata": {},
   "outputs": [],
   "source": [
    "with open('erie_county_elevated_tests.csv', 'w+') as f:\n",
    "    zip_grouped_tests.to_csv(f)"
   ]
  }
 ],
 "metadata": {
  "kernelspec": {
   "display_name": "Python 3",
   "language": "python",
   "name": "python3"
  },
  "language_info": {
   "codemirror_mode": {
    "name": "ipython",
    "version": 3
   },
   "file_extension": ".py",
   "mimetype": "text/x-python",
   "name": "python",
   "nbconvert_exporter": "python",
   "pygments_lexer": "ipython3",
   "version": "3.7.1"
  }
 },
 "nbformat": 4,
 "nbformat_minor": 2
}
